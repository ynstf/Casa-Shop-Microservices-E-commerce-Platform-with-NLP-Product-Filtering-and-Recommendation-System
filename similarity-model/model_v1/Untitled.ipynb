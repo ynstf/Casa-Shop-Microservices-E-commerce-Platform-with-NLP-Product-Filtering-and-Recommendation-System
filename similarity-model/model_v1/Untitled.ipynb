{
 "cells": [
  {
   "cell_type": "code",
   "execution_count": 12,
   "id": "7004beb6",
   "metadata": {},
   "outputs": [],
   "source": [
    "import pandas as pd\n",
    "import numpy as np\n",
    "import tensorflow as tf\n",
    "from tensorflow.keras.preprocessing.text import tokenizer_from_json\n",
    "import json\n",
    "import tensorflow as tf\n",
    "from tensorflow.keras.models import load_model\n",
    "from tensorflow.keras import backend as K\n",
    "from tensorflow.keras.preprocessing.sequence import pad_sequences\n"
   ]
  },
  {
   "cell_type": "code",
   "execution_count": 13,
   "id": "9ee2e380",
   "metadata": {},
   "outputs": [],
   "source": [
    "# title\n",
    "data = 'Smart Fitness Tracker with ECG and Blood Oxygen Monitoring'\n",
    "max_length = 32"
   ]
  },
  {
   "cell_type": "code",
   "execution_count": 14,
   "id": "b36baf0f",
   "metadata": {},
   "outputs": [],
   "source": [
    "# Load the tokenizer configuration from the JSON file\n",
    "with open('tokenizer_config.json', 'r') as json_file:\n",
    "    tokenizer_config_json = json_file.read()\n",
    "\n",
    "# Recreate the tokenizer object\n",
    "tokenizer = tokenizer_from_json(tokenizer_config_json)\n"
   ]
  },
  {
   "cell_type": "code",
   "execution_count": 15,
   "id": "6a627710",
   "metadata": {},
   "outputs": [],
   "source": [
    "# Load the model\n",
    "siamese_lstm_model = load_model('model.h5')"
   ]
  },
  {
   "cell_type": "code",
   "execution_count": 16,
   "id": "019081da",
   "metadata": {},
   "outputs": [],
   "source": [
    "df = pd.read_csv('data.txt')\n",
    "df = df.drop_duplicates(subset='Name of Product', keep='first')"
   ]
  },
  {
   "cell_type": "code",
   "execution_count": 17,
   "id": "a5cb64f0",
   "metadata": {},
   "outputs": [],
   "source": [
    "index = df.index[df[\"Name of Product\"] == data].tolist()[0]\n",
    "df[\"name\"] = df[\"Name of Product\"][index]"
   ]
  },
  {
   "cell_type": "code",
   "execution_count": 18,
   "id": "1b99dedf",
   "metadata": {},
   "outputs": [
    {
     "name": "stdout",
     "output_type": "stream",
     "text": [
      "198/198 [==============================] - 7s 16ms/step\n"
     ]
    }
   ],
   "source": [
    "# Prepare test data\n",
    "X_test_text1 = pad_sequences(tokenizer.texts_to_sequences(df['name']), maxlen=max_length)\n",
    "X_test_text2 = pad_sequences(tokenizer.texts_to_sequences(df['Name of Product']), maxlen=max_length)\n",
    "\n",
    "simi = siamese_lstm_model.predict([X_test_text1, X_test_text2])"
   ]
  },
  {
   "cell_type": "code",
   "execution_count": 19,
   "id": "be6dcea7",
   "metadata": {},
   "outputs": [],
   "source": [
    "df[\"similarity\"] = simi"
   ]
  },
  {
   "cell_type": "code",
   "execution_count": 20,
   "id": "6759cbb1",
   "metadata": {},
   "outputs": [],
   "source": [
    "#df[df[\"similarity\"]>0.88]"
   ]
  },
  {
   "cell_type": "code",
   "execution_count": 21,
   "id": "02eab1f4",
   "metadata": {},
   "outputs": [
    {
     "data": {
      "text/plain": [
       "['Smart Fitness Tracker with ECG and Blood Oxygen Monitoring',\n",
       " 'Immersive Virtual Reality Headset with Haptic Feedback',\n",
       " 'Sci-Fi Movie Collection with Cult Classics and Contemporary Hits',\n",
       " 'Advanced Home Security System with Smart Surveillance Features',\n",
       " 'Gourmet Cookbook with Culinary Masterpieces and Exclusive Recipes',\n",
       " 'Action Movie Marathon Collection with Thrilling Special Features',\n",
       " 'Smart Fitness Tracker with Advanced Health Monitoring Features',\n",
       " 'Latest Smartphone with AI-Powered Features and Stunning Design',\n",
       " 'Thrilling Violent Crime Novel Series with Captivating Plots',\n",
       " 'Latest Smartphone with AI-Powered Features',\n",
       " 'Innovative Smart Home Security System with AI Surveillance',\n",
       " 'Intelligent Home Surveillance System with Facial Recognition',\n",
       " 'Drug Tween60 Drug Additive Emulsifier Polysorbate 60 Poe Sorbitan Monolaurate CAS 500-020-4 E432 With Kosher/Halal/ISO/RSPO',\n",
       " 'Tween60 drug additive Emulsifier Polysorbate 60 Poe Sorbitan Monolaurate CAS 500-020-4 E432 with Kosher/Halal/ISO/RSPO',\n",
       " 'OEM Weight Loss And Immune Support Health Supplement Tasty Organic Slimming Apple Cider Vinegar Gummies With Vitamin B',\n",
       " 'BIOSTELLAR YD-2 manual portable Tablet Hardness Tester with Best Price',\n",
       " 'Wholesale good quality Nicotinamide riboside chloride CAS 23111-00-4 with best price',\n",
       " 'Advanced Smart Home Security System with Facial Recognition',\n",
       " 'Portable Espresso Maker with Advanced Brewing Technology',\n",
       " 'Compact Portable Espresso Maker with Quick Brewing Technology',\n",
       " 'Functional Desk Organizer with Multiple Compartments',\n",
       " 'Ultrapure 95% 5-15nm Multi Walled Carbon Nanotubes Powder Price MWCNTs with Length 10-30um',\n",
       " 'NMN Capsules With COQ10 Capsules Advanced',\n",
       " 'Wholesale Factory Price Cranberry Capsules Cigarettes Filter Tubes with Menthol Capsule']"
      ]
     },
     "execution_count": 21,
     "metadata": {},
     "output_type": "execute_result"
    }
   ],
   "source": [
    "list(df[df[\"similarity\"]>0.88]['Name of Product'])"
   ]
  },
  {
   "cell_type": "code",
   "execution_count": null,
   "id": "9e79b8a0",
   "metadata": {},
   "outputs": [],
   "source": []
  },
  {
   "cell_type": "code",
   "execution_count": null,
   "id": "7cb52332",
   "metadata": {},
   "outputs": [],
   "source": []
  },
  {
   "cell_type": "code",
   "execution_count": 9,
   "id": "276cbc20",
   "metadata": {},
   "outputs": [],
   "source": [
    "# Load the model\n",
    "#from tensorflow.keras import backend as K\n",
    "from tensorflow.keras.models import load_model\n",
    "siamese_lstm_model = load_model('model.h5')\n"
   ]
  },
  {
   "cell_type": "code",
   "execution_count": 5,
   "id": "4ceb2f1e",
   "metadata": {},
   "outputs": [],
   "source": []
  },
  {
   "cell_type": "code",
   "execution_count": null,
   "id": "a62dcd9b",
   "metadata": {},
   "outputs": [],
   "source": []
  }
 ],
 "metadata": {
  "kernelspec": {
   "display_name": "Python 3 (ipykernel)",
   "language": "python",
   "name": "python3"
  },
  "language_info": {
   "codemirror_mode": {
    "name": "ipython",
    "version": 3
   },
   "file_extension": ".py",
   "mimetype": "text/x-python",
   "name": "python",
   "nbconvert_exporter": "python",
   "pygments_lexer": "ipython3",
   "version": "3.9.12"
  }
 },
 "nbformat": 4,
 "nbformat_minor": 5
}
